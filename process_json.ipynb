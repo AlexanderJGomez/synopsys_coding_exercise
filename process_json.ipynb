{
 "cells": [
  {
   "cell_type": "code",
   "execution_count": 1,
   "metadata": {
    "ExecuteTime": {
     "end_time": "2020-07-03T19:37:53.493907Z",
     "start_time": "2020-07-03T19:37:53.220895Z"
    }
   },
   "outputs": [],
   "source": [
    "import psycopg2\n",
    "import json\n",
    "import requests\n",
    "import re\n",
    "from os import path\n",
    "from dateutil.parser import parse\n",
    "import zipfile\n",
    "from io import BytesIO\n",
    "from cpe.cpe2_3_fs import CPE2_3_FS\n",
    "import time\n",
    "from datetime import timedelta, datetime as dt"
   ]
  },
  {
   "cell_type": "code",
   "execution_count": 2,
   "metadata": {
    "ExecuteTime": {
     "end_time": "2020-07-03T19:37:53.515219Z",
     "start_time": "2020-07-03T19:37:53.500329Z"
    }
   },
   "outputs": [],
   "source": [
    "DB_CONFIG_FILE = \"db_config.json\"\n",
    "\n",
    "METAFILE_PATH = \"https://nvd.nist.gov/feeds/json/cve/1.1/nvdcve-1.1-modified.meta\"\n",
    "LAST_UPDATE_FILE = \"last_update.txt\"\n",
    "LAST_MODIFIED_FORMAT ='%Y-%m-%dT%H:%M:%S-04:00'\n",
    "UPDATE_INTERVAL = 1  # The minimum minutes time difference to update\n",
    "\n",
    "YEAR_RANGE = range(2002, 2021)\n",
    "CVE_ZIP_URL_TEMPLATE = \"https://nvd.nist.gov/feeds/json/cve/1.1/nvdcve-1.1-%s.json.zip\"\n",
    "CVE_JSON_FILE_TEMPLATE = \"nvdcve-1.1-%s.json\"\n",
    "CVE_RE = re.compile('CVE-(\\d*)-(\\d*)')\n",
    "\n",
    "VERSION_START_EXCLUDING = \"versionStartExcluding\"\n",
    "VERSION_START_INCLUDING = \"versionStartIncluding\"\n",
    "VERSION_END_EXCLUDING = \"versionEndExcluding\"\n",
    "VERSION_END_INCLUDING = \"versionEndIncluding\"\n",
    "\n",
    "ANY_SYMBOL = \"*\"\n",
    "ALL_SYMBOL = \"-\""
   ]
  },
  {
   "cell_type": "code",
   "execution_count": 3,
   "metadata": {
    "ExecuteTime": {
     "end_time": "2020-07-03T19:37:53.530331Z",
     "start_time": "2020-07-03T19:37:53.519152Z"
    }
   },
   "outputs": [],
   "source": [
    "def parse_timestamp(ts):\n",
    "    return dt.strptime(ts, LAST_MODIFIED_FORMAT)\n",
    "\n",
    "def get_last_modified_date(metadata):\n",
    "    \"\"\"Gets the last modified date from the metadata string.\n",
    "    \n",
    "    Args:\n",
    "        metadata -- meta file string\n",
    "    Returns:\n",
    "        str -- timestamp\n",
    "    \"\"\"\n",
    "    re_match = re.match(r'lastModifiedDate:(.*)\\r\\n', metadata)\n",
    "    if re_match and len(re_match.groups()) > 0:\n",
    "        return parse_timestamp(re_match.groups()[0])\n",
    "    else:\n",
    "        print(\"Error reading last modified date.\")"
   ]
  },
  {
   "cell_type": "code",
   "execution_count": 4,
   "metadata": {
    "ExecuteTime": {
     "end_time": "2020-07-03T19:37:53.543703Z",
     "start_time": "2020-07-03T19:37:53.532886Z"
    }
   },
   "outputs": [],
   "source": [
    "class CVE:\n",
    "    \n",
    "    def __set_id(self, id_string):\n",
    "        \"\"\"Takes the id string, parses out year and number, and sets it.\n",
    "        \n",
    "        Args:\n",
    "            id_string -- string version of cve id CVE-X-Y\n",
    "        \"\"\"\n",
    "        self.id = int(\"\".join(CVE_RE.match(id_string).groups()))\n",
    "    \n",
    "    def __set_scores(self, impact):\n",
    "        self.v2_score = impact['baseMetricV2']['cvssV2']['baseScore'] if 'baseMetricV2' in impact else None\n",
    "        self.v3_score = impact['baseMetricV3']['cvssV3']['baseScore'] if 'baseMetricV3' in impact else None\n",
    "        \n",
    "    \n",
    "    def __init__(self, item_json):\n",
    "        self.__set_id(item_json['cve']['CVE_data_meta']['ID'])\n",
    "        self.__set_scores(item_json['impact'])\n",
    "        self.description = item_json['cve']['description']['description_data'][0][\"value\"]\n",
    "        self.published_date = item_json['publishedDate']\n",
    "        self.last_modified_date = item_json[\"lastModifiedDate\"]\n",
    "        \n",
    "    def values(self):\n",
    "        \"\"\"Gets the values for insertion into PostgreSQL Table.\n",
    "        \"\"\"\n",
    "        return (self.id, self.description, self.v2_score, self.v3_score,\n",
    "                self.published_date, self.last_modified_date)"
   ]
  },
  {
   "cell_type": "code",
   "execution_count": 5,
   "metadata": {
    "ExecuteTime": {
     "end_time": "2020-07-03T19:37:53.563814Z",
     "start_time": "2020-07-03T19:37:53.548148Z"
    }
   },
   "outputs": [],
   "source": [
    "def cpe_factory(cve_id, match):\n",
    "    \"\"\"Returns either a CPE or a CPERange object.\n",
    "    \n",
    "    Args:\n",
    "        cve -- CVE that this CPE corresponds to.\n",
    "        match -- json object that contains URI and range properties.\n",
    "    Returns:\n",
    "        CPEEntity or CPERange -- Depending on the JSON will return the appropriate entity.\n",
    "    \"\"\"\n",
    "    class CPEEntity:\n",
    "        \"\"\"\n",
    "        For CPEs with a single version.\n",
    "        \"\"\"\n",
    "        def __init__(self, cve_id, product, version):\n",
    "            self.cve_id = cve_id\n",
    "            self.product = product\n",
    "            self.version = version\n",
    "\n",
    "        def values(self):\n",
    "            \"\"\"Provides values for insertion into cpes table.\n",
    "            \"\"\"\n",
    "            # Schema follows (cve_id, product, version, published_date, last_modified_date)\n",
    "            return (self.cve_id, self.product, self.version)\n",
    "        \n",
    "        def is_range(self):\n",
    "            return False\n",
    "        \n",
    "    class CPERange:\n",
    "        \"\"\"\n",
    "        For CPEs with a range.\n",
    "        \"\"\"\n",
    "        def __set_version(self, range_dict):\n",
    "            self.version_start = range_dict.get(VERSION_START_EXCLUDING, None) or range_dict.get(VERSION_START_INCLUDING, None)\n",
    "            self.version_end = range_dict.get(VERSION_END_EXCLUDING, None) or range_dict.get(VERSION_END_INCLUDING, None)\n",
    "            self.start_inclusive = None\n",
    "            self.end_inclusive = None\n",
    "            if (VERSION_START_EXCLUDING in range_dict) or (VERSION_START_INCLUDING in range_dict):\n",
    "                self.start_inclusive = not range_dict.get(VERSION_START_EXCLUDING, False)\n",
    "            if (VERSION_END_EXCLUDING in range_dict) or (VERSION_END_INCLUDING in range_dict):\n",
    "                self.end_inclusive = not range_dict.get(VERSION_END_EXCLUDING, False)\n",
    "        \n",
    "        def __init__(self, cve_id, product, range_dict):\n",
    "            self.cve_id = cve_id\n",
    "            self.product = product\n",
    "            self.version = ANY_SYMBOL\n",
    "            self.__set_version(range_dict)\n",
    "\n",
    "        \n",
    "        def values(self):\n",
    "            \"\"\"Provides values for insertion into cpes table.\n",
    "            \"\"\"\n",
    "            # Schema follows (cve_id, product, version_start, version_end, start_inclusive, end_inclusive)\n",
    "            return (self.cve_id,\n",
    "                    self.product,\n",
    "                    self.version_start,\n",
    "                    self.version_end, \n",
    "                    self.start_inclusive,\n",
    "                    self.end_inclusive\n",
    "                   )\n",
    "        \n",
    "        def is_range(self):\n",
    "            return True\n",
    "        \n",
    "    uri = match[\"cpe23Uri\"]\n",
    "    try:\n",
    "        cpe = CPE2_3_FS(uri)\n",
    "    except ValueError:\n",
    "        print(\"Bad URI: %s\" % uri)\n",
    "        return\n",
    "    cpe = CPE2_3_FS(uri)\n",
    "    version = cpe.get_version()[0]\n",
    "    product = cpe.get_product()[0]\n",
    "    if version == ANY_SYMBOL:\n",
    "        return CPERange(cve_id, product, match)\n",
    "    elif version != ALL_SYMBOL:\n",
    "        return CPEEntity(cve_id, cpe.get_product()[0], version)"
   ]
  },
  {
   "cell_type": "code",
   "execution_count": 6,
   "metadata": {
    "ExecuteTime": {
     "end_time": "2020-07-03T19:37:53.573863Z",
     "start_time": "2020-07-03T19:37:53.566798Z"
    }
   },
   "outputs": [],
   "source": [
    "def get_cpes(cve_id, nodes):\n",
    "    \"\"\"Extracts the CPEs from the given nodes.\n",
    "    \n",
    "    Args:\n",
    "        cve_id -- The cve_id that corresponds to these matches.\n",
    "        nodes -- A part of the matching statement that contains CPEs.\n",
    "    Returns:\n",
    "        list<CPEEntity/CPERange> -- Returns a list of CPEEntities and CPERanges\n",
    "    \"\"\"\n",
    "    cpes = []\n",
    "    for node in nodes:\n",
    "        if \"children\" in node:\n",
    "            cpes.extend(get_cpes(cve_id, node[\"children\"]))\n",
    "        elif 'cpe_match' in node:\n",
    "            for match in node['cpe_match']:\n",
    "                if match[\"vulnerable\"]:\n",
    "                    cpe = cpe_factory(cve_id, match)\n",
    "                    if cpe:\n",
    "                        cpes.append(cpe)\n",
    "    return cpes"
   ]
  },
  {
   "cell_type": "code",
   "execution_count": 7,
   "metadata": {
    "ExecuteTime": {
     "end_time": "2020-07-03T19:37:53.587397Z",
     "start_time": "2020-07-03T19:37:53.580887Z"
    }
   },
   "outputs": [],
   "source": [
    "def parse_entities(json_dict):\n",
    "    \"\"\"Parse the cve, cpe, and cpe_range entities from the json feed.\n",
    "    \n",
    "    Args:\n",
    "        json_dict -- Dict version of JSON file read for a single year.\n",
    "    Returns:\n",
    "        list<CVE> -- The new CVEs listed in the data.\n",
    "        list<CPEEntity> -- The CPEs that correspond to the CVEs.\n",
    "        list<CPERange> -- The CPERanges that correspond to the CVEs.\n",
    "    \"\"\"\n",
    "    cves = []\n",
    "    cpes = []\n",
    "    cpe_ranges = []\n",
    "    for item in json_dict[\"CVE_Items\"]:\n",
    "        cve = CVE(item)\n",
    "        cves.append(cve.values())\n",
    "        curr_cpe_ranges = set()\n",
    "        curr_cpes = set()\n",
    "        for cpe in get_cpes(cve.id, item[\"configurations\"][\"nodes\"]):\n",
    "            if cpe.is_range():\n",
    "                curr_cpe_ranges.add(cpe.values())\n",
    "            else:\n",
    "                curr_cpes.add(cpe.values())\n",
    "        cpe_ranges.extend(curr_cpe_ranges)\n",
    "        cpes.extend(curr_cpes)\n",
    "    return cves, cpes, cpe_ranges"
   ]
  },
  {
   "cell_type": "code",
   "execution_count": 8,
   "metadata": {
    "ExecuteTime": {
     "end_time": "2020-07-03T19:37:53.599908Z",
     "start_time": "2020-07-03T19:37:53.591116Z"
    }
   },
   "outputs": [],
   "source": [
    "def save_entities(cur, conn, cves, cpes, cpe_ranges):\n",
    "    \"\"\"Saves all of the entities that have been read from the json file.\n",
    "    \n",
    "    Args:\n",
    "        cves -- Objects of type CVE to be saved\n",
    "        cpes -- Objects of type CPE to be saved\n",
    "        cpe_ranges -- Objects of type CPE_Range to be saved.\n",
    "    \"\"\"\n",
    "    \n",
    "    # Save CVEs\n",
    "    args_str = b','.join(cur.mogrify(\"(%s,%s,%s,%s,%s,%s)\", cve) for cve in cves)\n",
    "    cur.execute(b\"INSERT INTO cves VALUES \" + args_str)\n",
    "    conn.commit()\n",
    "\n",
    "    # Save CPEs\n",
    "    args_str = b','.join(cur.mogrify(\"(%s,%s,%s)\", cpe) for cpe in cpes)\n",
    "    cur.execute(b\"INSERT INTO cpes VALUES \" + args_str)\n",
    "    conn.commit()\n",
    "\n",
    "    # Save CPE_Ranges\n",
    "    args_str = b','.join(cur.mogrify(\"(%s,%s,%s,%s,%s,%s)\", cpe_range) for cpe_range in cpe_ranges)\n",
    "    cur.execute(b\"INSERT INTO cpe_ranges VALUES \" + args_str + b\" ON CONFLICT DO NOTHING\")\n",
    "    conn.commit()"
   ]
  },
  {
   "cell_type": "code",
   "execution_count": 10,
   "metadata": {
    "ExecuteTime": {
     "end_time": "2020-07-03T19:39:46.322704Z",
     "start_time": "2020-07-03T19:39:46.012273Z"
    },
    "scrolled": true
   },
   "outputs": [
    {
     "name": "stdout",
     "output_type": "stream",
     "text": [
      "Data up to date.\n"
     ]
    }
   ],
   "source": [
    "def main():\n",
    "    db_config = json.load(open(DB_CONFIG_FILE))\n",
    "    user = db_config[\"user\"]\n",
    "    password = db_config[\"password\"]\n",
    "    database = db_config[\"database\"]\n",
    "    conn = psycopg2.connect(dbname=database, user=user, password=password)\n",
    "    cur = conn.cursor()\n",
    "    response = requests.get(METAFILE_PATH)\n",
    "    newest_modified_date = \"\"\n",
    "    \n",
    "    # Get the most recent modified meta data\n",
    "    if response.status_code == 200:\n",
    "        newest_modified_date = get_last_modified_date(response.text)\n",
    "    else:\n",
    "        print(\"Error loading metafile: %s\" % METAFILE_PATH)\n",
    "        return\n",
    "    \n",
    "    if path.exists(LAST_UPDATE_FILE):\n",
    "        last_update_datetime = parse_timestamp(open(LAST_UPDATE_FILE, \"r\").read())\n",
    "        # Then we need to check if the table needs an update\n",
    "        if newest_modified_date - last_update_datetime > timedelta(minutes=UPDATE_INTERVAL):\n",
    "            print(\"Need to update data.\")\n",
    "        else:\n",
    "            print(\"Data up to date.\")\n",
    "            return\n",
    "    else: # This means we are going to need to reupload all data\n",
    "        # Drop existing tables and recreate\n",
    "        cur.execute(open(\"sql/create_tables.sql\", \"r\").read())\n",
    "        conn.commit()\n",
    "        print(\"Created Tables\")\n",
    "        \n",
    "        for year in YEAR_RANGE:\n",
    "            request = requests.get(CVE_ZIP_URL_TEMPLATE % str(year))\n",
    "            zip_file = zipfile.ZipFile(BytesIO(request.content))\n",
    "            json_dict = json.load(zip_file.open(CVE_JSON_FILE_TEMPLATE % year))\n",
    "            time_start = time.time()\n",
    "            print(\"Read %s.\" % (CVE_JSON_FILE_TEMPLATE % year))\n",
    "            cves, cpes, cpe_ranges = parse_entities(json_dict)\n",
    "            save_entities(cur, conn, cves, cpes, cpe_ranges)\n",
    "            print(\"Took %d seconds to save entities from %s.\\n\" % (round(time.time() - time_start), CVE_JSON_FILE_TEMPLATE % year))\n",
    "    open(LAST_UPDATE_FILE, \"w\").write(newest_modified_date.strftime(LAST_MODIFIED_FORMAT))\n",
    "    cur.close()\n",
    "    conn.close()\n",
    "        \n",
    "\n",
    "if __name__ == \"__main__\":\n",
    "    main()"
   ]
  },
  {
   "cell_type": "code",
   "execution_count": null,
   "metadata": {},
   "outputs": [],
   "source": []
  }
 ],
 "metadata": {
  "kernelspec": {
   "display_name": "Python 3",
   "language": "python",
   "name": "python3"
  },
  "language_info": {
   "codemirror_mode": {
    "name": "ipython",
    "version": 3
   },
   "file_extension": ".py",
   "mimetype": "text/x-python",
   "name": "python",
   "nbconvert_exporter": "python",
   "pygments_lexer": "ipython3",
   "version": "3.6.9"
  }
 },
 "nbformat": 4,
 "nbformat_minor": 2
}
